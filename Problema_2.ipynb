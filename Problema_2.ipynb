{
  "nbformat": 4,
  "nbformat_minor": 0,
  "metadata": {
    "colab": {
      "provenance": []
    },
    "kernelspec": {
      "name": "python3",
      "display_name": "Python 3"
    },
    "language_info": {
      "name": "python"
    }
  },
  "cells": [
    {
      "cell_type": "markdown",
      "source": [
        "# Problema 2"
      ],
      "metadata": {
        "id": "e15UIUFSjf_X"
      }
    },
    {
      "cell_type": "code",
      "source": [
        "#Paquetes a usar en el problema 2\n",
        "import numpy as np\n",
        "import matplotlib.pyplot as plt\n",
        "from collections import Counter"
      ],
      "metadata": {
        "id": "P7gAD8STyXhY"
      },
      "execution_count": null,
      "outputs": []
    },
    {
      "cell_type": "markdown",
      "source": [
        "## a) Gray_flip()"
      ],
      "metadata": {
        "id": "tPu5wwqyGxTT"
      }
    },
    {
      "source": [
        "def gray_flip(tau, N):\n",
        "\n",
        "    tau = list(tau)\n",
        "\n",
        "    k = tau[0]\n",
        "\n",
        "    if k > N:\n",
        "        return None, None\n",
        "\n",
        "    tau[k-1] = tau[k]\n",
        "    tau[k] = k + 1\n",
        "\n",
        "    if k != 1:\n",
        "        tau[0] = 1\n",
        "\n",
        "    return tau, k"
      ],
      "cell_type": "code",
      "metadata": {
        "id": "ZhfzJsD1JWXK"
      },
      "execution_count": null,
      "outputs": []
    },
    {
      "cell_type": "markdown",
      "source": [
        "Para testear si funciona para un $N$ pequeño tenemos que crear un array $\\tau = [\\tau_0, ....., \\tau_N]$ e ir almacenando las configuraciones que se generan"
      ],
      "metadata": {
        "id": "1c5kmRS8HiwD"
      }
    },
    {
      "cell_type": "code",
      "source": [
        "N=4 #N = 2 X 2\n",
        "S = [-1]* N\n",
        "print(f'1: {S}') #primer valor\n",
        "tau_in = np.arange(1, N + 2)\n",
        "for i in range(1, 2**N):\n",
        "    tau_in, k = gray_flip(tau_in, N)\n",
        "    S[k-1] *= -1\n",
        "    print(f'{i+1}: {S}')"
      ],
      "metadata": {
        "colab": {
          "base_uri": "https://localhost:8080/"
        },
        "id": "fDuHXy0YmAAB",
        "outputId": "568d7173-dc89-40e8-d30a-898cf704bd1a"
      },
      "execution_count": null,
      "outputs": [
        {
          "output_type": "stream",
          "name": "stdout",
          "text": [
            "1: [-1, -1, -1, -1]\n",
            "2: [1, -1, -1, -1]\n",
            "3: [1, 1, -1, -1]\n",
            "4: [-1, 1, -1, -1]\n",
            "5: [-1, 1, 1, -1]\n",
            "6: [1, 1, 1, -1]\n",
            "7: [1, -1, 1, -1]\n",
            "8: [-1, -1, 1, -1]\n",
            "9: [-1, -1, 1, 1]\n",
            "10: [1, -1, 1, 1]\n",
            "11: [1, 1, 1, 1]\n",
            "12: [-1, 1, 1, 1]\n",
            "13: [-1, 1, -1, 1]\n",
            "14: [1, 1, -1, 1]\n",
            "15: [1, -1, -1, 1]\n",
            "16: [-1, -1, -1, 1]\n"
          ]
        }
      ]
    },
    {
      "cell_type": "markdown",
      "source": [
        "Se evidencia que se replica la tabla. Para complementar con el algoritmo de *enumerate_ising* utilizamos la formulacón previa pero la modificamos de forma que podamos tener la densidad de estados. Algo importante es cómo definir las condiciones periódicas para lo cual se utilizó chatgpt el cual sugiere que para mayor eficiencia del programa estás sean definidas como un diccionario."
      ],
      "metadata": {
        "id": "lxSVHArjrLg1"
      }
    },
    {
      "cell_type": "markdown",
      "source": [
        "## Lattice de 2x2"
      ],
      "metadata": {
        "id": "lE51KyQ846RX"
      }
    },
    {
      "source": [
        "L = 2\n",
        "N = L*L\n",
        "#Diccionario para condiciones de borde con red de LxL\n",
        "vecinos = {i : ((i // L) * L + (i + 1) % L, (i + L) % N,(i // L) * L + (i - 1) % L, (i - L) % N) for i in range(N)}\n",
        "S = [-1] * N\n",
        "E = -2 * N\n",
        "D_estados = []\n",
        "tau = np.arange(1, N + 2)\n",
        "for i in range(1, 2 ** N):\n",
        "    tau, k = gray_flip(tau, N)\n",
        "    h=0\n",
        "    for j in vecinos[k - 1]:\n",
        "      h += S[j]\n",
        "    E += 2 * h * S[k - 1]\n",
        "    if E >= 0:\n",
        "      D_estados.append(E)\n",
        "    contador = Counter(D_estados)\n",
        "    S[k - 1] *= -1\n",
        "print(f'Densidad de cada valor de energía: {contador}')"
      ],
      "cell_type": "code",
      "metadata": {
        "colab": {
          "base_uri": "https://localhost:8080/"
        },
        "id": "rNAC_5G8ks_X",
        "outputId": "303396f8-d8c4-4611-ef8e-007414f2fe76"
      },
      "execution_count": null,
      "outputs": [
        {
          "output_type": "stream",
          "name": "stdout",
          "text": [
            "Densidad de cada valor de energía: Counter({0: 12, 8: 2})\n"
          ]
        }
      ]
    },
    {
      "cell_type": "markdown",
      "source": [
        "## Lattice de 4x4"
      ],
      "metadata": {
        "id": "0wJ8l3hi5ABR"
      }
    },
    {
      "cell_type": "code",
      "source": [
        "L =4\n",
        "N = L*L\n",
        "#Diccionario para condiciones de borde con red de LxL\n",
        "vecinos = {i : ((i // L) * L + (i + 1) % L, (i + L) % N,(i // L) * L + (i - 1) % L, (i - L) % N) for i in range(N)}\n",
        "S = [-1] * N\n",
        "E = -2 * N\n",
        "D_estados = []\n",
        "tau = np.arange(1, N + 2)\n",
        "for i in range(1, 2 ** N):\n",
        "    tau, k = gray_flip(tau, N)\n",
        "    h=0\n",
        "    for j in vecinos[k - 1]:\n",
        "      h += S[j]\n",
        "    E += 2 * h * S[k - 1]\n",
        "    if E >= 0:\n",
        "      D_estados.append(E)\n",
        "    contador = Counter(D_estados)\n",
        "    S[k - 1] *= -1\n",
        "print(f'Densidad de cada valor de energía: {contador}')"
      ],
      "metadata": {
        "colab": {
          "base_uri": "https://localhost:8080/"
        },
        "id": "NealQJdn5Bvk",
        "outputId": "efd9e5cd-611d-465e-8f9a-9125f124ef8d"
      },
      "execution_count": null,
      "outputs": [
        {
          "output_type": "stream",
          "name": "stdout",
          "text": [
            "Densidad de cada valor de energía: Counter({0: 20524, 4: 13568, 8: 6688, 12: 1728, 16: 424, 20: 64, 24: 32, 32: 2})\n"
          ]
        }
      ]
    },
    {
      "cell_type": "markdown",
      "source": [
        "## Lattice 5x5"
      ],
      "metadata": {
        "id": "X8CKgMhg7TZS"
      }
    },
    {
      "cell_type": "code",
      "source": [
        "L = 5\n",
        "N = L*L\n",
        "#Diccionario para condiciones de borde con red de LxL\n",
        "vecinos = {i : ((i // L) * L + (i + 1) % L, (i + L) % N,(i // L) * L + (i - 1) % L, (i - L) % N) for i in range(N)}\n",
        "S = [-1] * N\n",
        "E = -2 * N\n",
        "D_estados = []\n",
        "tau = range(1, N + 2)\n",
        "for i in range(1, 2 ** N):\n",
        "    tau, k = gray_flip(tau, N)\n",
        "    h=0\n",
        "    for j in vecinos[k - 1]:\n",
        "      h += S[j]\n",
        "    E += 2 * h * S[k - 1]\n",
        "    if E >= 0:\n",
        "      D_estados.append(E)\n",
        "    contador = Counter(D_estados)\n",
        "    S[k - 1] *= -1\n",
        "print(f'Densidad de cada valor de energía: {contador}')"
      ],
      "metadata": {
        "id": "dtjMwTNX7WgK"
      },
      "execution_count": null,
      "outputs": []
    },
    {
      "cell_type": "markdown",
      "source": [
        "## b) Cálcular la magnetización y energía de las configuraciones"
      ],
      "metadata": {
        "id": "TeW71SorcjR7"
      }
    },
    {
      "cell_type": "markdown",
      "source": [
        "Para realizar el cálculo de la magnetización debemos modificar el código de forma que este incluya un parametro de magnetización:"
      ],
      "metadata": {
        "id": "9zDBse4McvjL"
      }
    },
    {
      "cell_type": "code",
      "source": [
        "L =2\n",
        "N = L*L\n",
        "#Diccionario para condiciones de borde con red de LxL\n",
        "vecinos = {i : ((i // L) * L + (i + 1) % L, (i + L) % N,(i // L) * L + (i - 1) % L, (i - L) % N) for i in range(N)}\n",
        "S = [-1] * N\n",
        "E = -2 * N\n",
        "M = np.sum(S) #magnetización inicial\n",
        "D_estados = []\n",
        "tau = np.arange(1, N + 2)\n",
        "for i in range(1, 2 ** N):\n",
        "    tau, k = gray_flip(tau, N)\n",
        "    h=0\n",
        "    for j in vecinos[k - 1]:\n",
        "      h += S[j]\n",
        "    E += 2 * h * S[k - 1]\n",
        "\n",
        "    M += 2 * S[k - 1]\n",
        "\n",
        "    if E >= 0:\n",
        "      D_estados.append((E,M))\n",
        "    contador = Counter(D_estados)\n",
        "    S[k - 1] *= -1\n",
        "\n",
        "print(f'N(E,M) con su respectivo número de aparición: {contador}')"
      ],
      "metadata": {
        "colab": {
          "base_uri": "https://localhost:8080/"
        },
        "id": "_7878Zafc5n_",
        "outputId": "57d4dcb3-6fe3-4eb3-a179-9e7ff31d9651"
      },
      "execution_count": null,
      "outputs": [
        {
          "output_type": "stream",
          "name": "stdout",
          "text": [
            "Densidad de cada valor de energía: Counter({(0, -6): 4, (0, -8): 4, (0, -10): 4, (8, -8): 2})\n"
          ]
        }
      ]
    },
    {
      "cell_type": "markdown",
      "source": [
        "Podemos notar uq enuevamente con Energía $0$ tenemos $12$ configuraciones distribuidas en magentizaciones diferentes de $-6,-8,-10$"
      ],
      "metadata": {
        "id": "RONN6E43PkSn"
      }
    },
    {
      "cell_type": "code",
      "source": [
        "L = 4\n",
        "N = L*L\n",
        "#Diccionario para condiciones de borde con red de LxL\n",
        "vecinos = {i : ((i // L) * L + (i + 1) % L, (i + L) % N,(i // L) * L + (i - 1) % L, (i - L) % N) for i in range(N)}\n",
        "S = [-1] * N\n",
        "E = -2 * N\n",
        "M = np.sum(S) #magnetización inicial\n",
        "D_estados = []\n",
        "tau = np.arange(1, N + 2)\n",
        "for i in range(1, 2 ** N):\n",
        "    tau, k = gray_flip(tau, N)\n",
        "    h=0\n",
        "    for j in vecinos[k - 1]:\n",
        "      h += S[j]\n",
        "    E += 2 * h * S[k - 1]\n",
        "\n",
        "    M += 2 * S[k - 1]\n",
        "\n",
        "    if E >= 0:\n",
        "      D_estados.append((E,M))\n",
        "    contador = Counter(D_estados)\n",
        "    S[k - 1] *= -1\n",
        "\n",
        "print(f'Densidad de cada valor de energía: {contador}')"
      ],
      "metadata": {
        "colab": {
          "base_uri": "https://localhost:8080/"
        },
        "id": "Ur_AVG5xgi4g",
        "outputId": "bac5ca78-7f27-4d56-a702-159e04294389"
      },
      "execution_count": null,
      "outputs": [
        {
          "output_type": "stream",
          "name": "stdout",
          "text": [
            "Densidad de cada valor de energía: Counter({(0, -32): 4356, (0, -30): 3680, (0, -34): 3680, (4, -32): 3264, (4, -30): 3136, (4, -34): 3136, (0, -28): 2928, (0, -36): 2928, (8, -32): 2112, (4, -28): 1568, (4, -36): 1568, (8, -30): 1392, (8, -34): 1392, (0, -26): 1248, (0, -38): 1248, (8, -28): 768, (8, -36): 768, (12, -32): 576, (12, -30): 512, (12, -34): 512, (4, -26): 448, (4, -38): 448, (0, -24): 228, (0, -40): 228, (8, -26): 128, (8, -38): 128, (16, -32): 120, (16, -30): 96, (16, -34): 96, (20, -32): 64, (12, -28): 64, (12, -36): 64, (16, -28): 56, (16, -36): 56, (24, -30): 16, (24, -34): 16, (32, -32): 2})\n"
          ]
        }
      ]
    },
    {
      "cell_type": "code",
      "source": [
        "# Función de partición y probabilidad de magnetización por spin\n",
        "def calcular_probabilidad_M(contador, T):\n",
        "    beta = 1 / T\n",
        "    Z = sum(np.exp(-beta * E) * count for (E, M), count in contador.items())\n",
        "    pi_M = {}\n",
        "    for (E, M), count in contador.items():\n",
        "        m = M / N\n",
        "        if m not in pi_M:\n",
        "            pi_M[m] = 0\n",
        "        pi_M[m] += np.exp(-beta * E) * count / Z\n",
        "    return pi_M\n",
        "\n",
        "\n",
        "temperaturas = [2.5, 5]\n",
        "for T in temperaturas:\n",
        "    pi_M = calcular_probabilidad_M(contador, T)\n",
        "    m_vals = sorted(pi_M.keys())\n",
        "    pi_vals = [pi_M[m] for m in m_vals]\n",
        "\n",
        "    plt.plot(m_vals, pi_vals, label=f'T={T}')\n",
        "\n",
        "plt.xlabel('Magnetización por spin m')\n",
        "plt.ylabel('Probabilidad πM')\n",
        "plt.legend()\n",
        "plt.title('Distribución de magnetización por spin para diferentes T')\n",
        "plt.show()"
      ],
      "metadata": {
        "colab": {
          "base_uri": "https://localhost:8080/",
          "height": 473
        },
        "id": "eAaa3hF3SAfY",
        "outputId": "1b95921e-96f9-4532-df0a-7216e38dfc65"
      },
      "execution_count": null,
      "outputs": [
        {
          "output_type": "display_data",
          "data": {
            "text/plain": [
              "<Figure size 640x480 with 1 Axes>"
            ],
            "image/png": "[encoded data removed]"
          },
          "metadata": {}
        }
      ]
    }
  ]
}