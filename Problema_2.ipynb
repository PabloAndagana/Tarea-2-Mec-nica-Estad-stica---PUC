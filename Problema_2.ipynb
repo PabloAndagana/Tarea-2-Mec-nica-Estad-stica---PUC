{
  "nbformat": 4,
  "nbformat_minor": 0,
  "metadata": {
    "colab": {
      "provenance": [],
      "authorship_tag": "ABX9TyNCc1zhK44ZW1h2mfMtIpUj"
    },
    "kernelspec": {
      "name": "python3",
      "display_name": "Python 3"
    },
    "language_info": {
      "name": "python"
    }
  },
  "cells": [
    {
      "cell_type": "markdown",
      "source": [
        "# Problema 2"
      ],
      "metadata": {
        "id": "e15UIUFSjf_X"
      }
    },
    {
      "cell_type": "code",
      "source": [
        "#Paquetes a usar en el problema 2\n",
        "import numpy as np\n",
        "import matplotlib.pyplot as plt\n",
        "from collections import Counter"
      ],
      "metadata": {
        "id": "P7gAD8STyXhY"
      },
      "execution_count": 1,
      "outputs": []
    },
    {
      "cell_type": "markdown",
      "source": [
        "## a) Gray_flip()"
      ],
      "metadata": {
        "id": "tPu5wwqyGxTT"
      }
    },
    {
      "source": [
        "def gray_flip(tau, N):\n",
        "\n",
        "    tau = list(tau)\n",
        "\n",
        "    k = tau[0]\n",
        "\n",
        "    if k > N:\n",
        "        return None, None\n",
        "\n",
        "    tau[k-1] = tau[k]\n",
        "    tau[k] = k + 1\n",
        "\n",
        "    if k != 1:\n",
        "        tau[0] = 1\n",
        "\n",
        "    return tau, k"
      ],
      "cell_type": "code",
      "metadata": {
        "id": "ZhfzJsD1JWXK"
      },
      "execution_count": 2,
      "outputs": []
    },
    {
      "cell_type": "markdown",
      "source": [
        "Para testear si funciona para un $N$ pequeño tenemos que crear un array $\\tau = [\\tau_0, ....., \\tau_N]$ e ir almacenando las configuraciones que se generan"
      ],
      "metadata": {
        "id": "1c5kmRS8HiwD"
      }
    },
    {
      "cell_type": "code",
      "source": [
        "N=4 #N = 2 X 2\n",
        "S = [-1]* N\n",
        "print(f'1: {S}') #primer valor\n",
        "tau_in = np.arange(1, N + 2)\n",
        "for i in range(1, 2**N):\n",
        "    tau_in, k = gray_flip(tau_in, N)\n",
        "    S[k-1] *= -1\n",
        "    print(f'{i+1}: {S}')"
      ],
      "metadata": {
        "colab": {
          "base_uri": "https://localhost:8080/"
        },
        "id": "fDuHXy0YmAAB",
        "outputId": "e1ff9a0c-7519-4b5e-a0f7-f00e25f97dd7"
      },
      "execution_count": 3,
      "outputs": [
        {
          "output_type": "stream",
          "name": "stdout",
          "text": [
            "1: [-1, -1, -1, -1]\n",
            "2: [1, -1, -1, -1]\n",
            "3: [1, 1, -1, -1]\n",
            "4: [-1, 1, -1, -1]\n",
            "5: [-1, 1, 1, -1]\n",
            "6: [1, 1, 1, -1]\n",
            "7: [1, -1, 1, -1]\n",
            "8: [-1, -1, 1, -1]\n",
            "9: [-1, -1, 1, 1]\n",
            "10: [1, -1, 1, 1]\n",
            "11: [1, 1, 1, 1]\n",
            "12: [-1, 1, 1, 1]\n",
            "13: [-1, 1, -1, 1]\n",
            "14: [1, 1, -1, 1]\n",
            "15: [1, -1, -1, 1]\n",
            "16: [-1, -1, -1, 1]\n"
          ]
        }
      ]
    },
    {
      "cell_type": "markdown",
      "source": [
        "Se evidencia que se replica la tabla. Para complementar con el algoritmo de *enumerate_ising* utilizamos la formulacón previa pero la modificamos de forma que podamos tener la densidad de estados. Algo importante es cómo definir las condiciones periódicas para lo cual se utilizó chatgpt el cual sugiere que para mayor eficiencia del programa estás sean definidas como un diccionario."
      ],
      "metadata": {
        "id": "lxSVHArjrLg1"
      }
    },
    {
      "cell_type": "markdown",
      "source": [
        "## Lattice de 2x2"
      ],
      "metadata": {
        "id": "lE51KyQ846RX"
      }
    },
    {
      "source": [
        "L = 2\n",
        "N = L*L\n",
        "#Diccionario para condiciones de borde con red de LxL\n",
        "vecinos = {i : ((i // L) * L + (i + 1) % L, (i + L) % N,(i // L) * L + (i - 1) % L, (i - L) % N) for i in range(N)}\n",
        "S = [-1] * N\n",
        "E = -2 * N\n",
        "D_estados = []\n",
        "tau = np.arange(1, N + 2)\n",
        "for i in range(1, 2 ** N):\n",
        "    tau, k = gray_flip(tau, N)\n",
        "    h=0\n",
        "    for j in vecinos[k - 1]:\n",
        "      h += S[j]\n",
        "    E += 2 * h * S[k - 1]\n",
        "    if E >= 0:\n",
        "      D_estados.append(E)\n",
        "    contador = Counter(D_estados)\n",
        "    S[k - 1] *= -1\n",
        "print(f'Densidad de cada valor de energía: {contador}')"
      ],
      "cell_type": "code",
      "metadata": {
        "colab": {
          "base_uri": "https://localhost:8080/"
        },
        "collapsed": true,
        "id": "rNAC_5G8ks_X",
        "outputId": "2b9fa9c8-3b20-41d3-b9f8-b950f35b976f"
      },
      "execution_count": 4,
      "outputs": [
        {
          "output_type": "stream",
          "name": "stdout",
          "text": [
            "Densidad de cada valor de energía: Counter({0: 12, 8: 2})\n"
          ]
        }
      ]
    },
    {
      "cell_type": "markdown",
      "source": [
        "## Lattice de 4x4"
      ],
      "metadata": {
        "id": "0wJ8l3hi5ABR"
      }
    },
    {
      "cell_type": "code",
      "source": [
        "L =4\n",
        "N = L*L\n",
        "#Diccionario para condiciones de borde con red de LxL\n",
        "vecinos = {i : ((i // L) * L + (i + 1) % L, (i + L) % N,(i // L) * L + (i - 1) % L, (i - L) % N) for i in range(N)}\n",
        "S = [-1] * N\n",
        "E = -2 * N\n",
        "D_estados = []\n",
        "tau = np.arange(1, N + 2)\n",
        "for i in range(1, 2 ** N):\n",
        "    tau, k = gray_flip(tau, N)\n",
        "    h=0\n",
        "    for j in vecinos[k - 1]:\n",
        "      h += S[j]\n",
        "    E += 2 * h * S[k - 1]\n",
        "    if E >= 0:\n",
        "      D_estados.append(E)\n",
        "    contador = Counter(D_estados)\n",
        "    S[k - 1] *= -1\n",
        "print(f'Densidad de cada valor de energía: {contador}')"
      ],
      "metadata": {
        "colab": {
          "base_uri": "https://localhost:8080/"
        },
        "id": "NealQJdn5Bvk",
        "outputId": "efd9e5cd-611d-465e-8f9a-9125f124ef8d"
      },
      "execution_count": 101,
      "outputs": [
        {
          "output_type": "stream",
          "name": "stdout",
          "text": [
            "Densidad de cada valor de energía: Counter({0: 20524, 4: 13568, 8: 6688, 12: 1728, 16: 424, 20: 64, 24: 32, 32: 2})\n"
          ]
        }
      ]
    },
    {
      "cell_type": "markdown",
      "source": [
        "## Lattice 6x6"
      ],
      "metadata": {
        "id": "X8CKgMhg7TZS"
      }
    },
    {
      "cell_type": "code",
      "source": [
        "L = 6\n",
        "N = L*L\n",
        "#Diccionario para condiciones de borde con red de LxL\n",
        "vecinos = {i : ((i // L) * L + (i + 1) % L, (i + L) % N,(i // L) * L + (i - 1) % L, (i - L) % N) for i in range(N)}\n",
        "S = [-1] * N\n",
        "E = -2 * N\n",
        "D_estados = []\n",
        "tau = range(1, N + 2)\n",
        "for i in range(1, 2 ** N):\n",
        "    tau, k = gray_flip(tau, N)\n",
        "    h=0\n",
        "    for j in vecinos[k - 1]:\n",
        "      h += S[j]\n",
        "    E += 2 * h * S[k - 1]\n",
        "    if E >= 0:\n",
        "      D_estados.append(E)\n",
        "    contador = Counter(D_estados)\n",
        "    S[k - 1] *= -1\n",
        "print(f'Densidad de cada valor de energía: {contador}')"
      ],
      "metadata": {
        "id": "dtjMwTNX7WgK"
      },
      "execution_count": null,
      "outputs": []
    }
  ]
}